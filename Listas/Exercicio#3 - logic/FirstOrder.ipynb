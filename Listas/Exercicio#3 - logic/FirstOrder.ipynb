{
 "cells": [
  {
   "cell_type": "markdown",
   "metadata": {},
   "source": [
    "# Lógica de 1ª Ordem\n",
    "\n",
    "Operações mais importantes:\n",
    "* ```Atom(x[,y,...,z])```\n",
    "* ```Not(x)```\n",
    "* ```And(x, y), AndList(x1,x2,...,xn)```\n",
    "* ```Or(x, y)```, ```OrList(x1,x2,...,xn)```\n",
    "* ```Xor(x,y)```\n",
    "* ```Implies(x, y)```\n",
    "* ```Equiv(x, y)```\n",
    "* ```Exists(var, body)```\n",
    "* ```Forall(var, body)```\n",
    "\n",
    "Fluxo de utilização:\n",
    "```python\n",
    "kb = createResolutionKB()\n",
    "kb.tell(<formula>) # add information to KB\n",
    "kb.ask(<formula>)  # submit queries to KB\n",
    "kb.dump()          # list derivations\n",
    "```\n"
   ]
  },
  {
   "cell_type": "code",
   "execution_count": 1,
   "metadata": {},
   "outputs": [],
   "source": [
    "from logic import *"
   ]
  },
  {
   "cell_type": "code",
   "execution_count": 2,
   "metadata": {},
   "outputs": [
    {
     "name": "stdout",
     "output_type": "stream",
     "text": [
      "Pessoa(virginia)\n",
      "Origem(virginia,brasil)\n"
     ]
    }
   ],
   "source": [
    "#Predicado unário\n",
    "unario = Atom('Pessoa', 'virginia')\n",
    "print(unario)\n",
    "\n",
    "#Predicado binário\n",
    "binario = Atom('Origem', 'virginia', 'brasil')\n",
    "print(binario)"
   ]
  },
  {
   "cell_type": "markdown",
   "metadata": {},
   "source": [
    "∀x Estudante(x) →  Pessoa(x)"
   ]
  },
  {
   "cell_type": "code",
   "execution_count": 47,
   "metadata": {},
   "outputs": [
    {
     "name": "stdout",
     "output_type": "stream",
     "text": [
      "==== Knowledge base [1 derivations] ===\n",
      "('*', Or(Not(Estudante($x3)),Pessoa($x3)))\n"
     ]
    }
   ],
   "source": [
    "kb = createResolutionKB()\n",
    "kb.tell(Forall('$x', Implies(Atom('Estudante', '$x'), \n",
    "                             Atom('Pessoa', '$x'))) )\n",
    "kb.dump()"
   ]
  },
  {
   "cell_type": "code",
   "execution_count": 48,
   "metadata": {},
   "outputs": [
    {
     "name": "stdout",
     "output_type": "stream",
     "text": [
      "==== Knowledge base [3 derivations] ===\n",
      "('*', Or(Not(Estudante($x3)),Pessoa($x3)))\n",
      "('*', Estudante(henrique))\n",
      "('-', Pessoa(henrique))\n"
     ]
    }
   ],
   "source": [
    "kb.tell(Atom('Estudante', 'henrique'))\n",
    "kb.dump()"
   ]
  },
  {
   "cell_type": "markdown",
   "metadata": {},
   "source": [
    "### Exercícios"
   ]
  },
  {
   "cell_type": "markdown",
   "metadata": {},
   "source": [
    "### Escreva as seguintes proposições\n"
   ]
  },
  {
   "cell_type": "markdown",
   "metadata": {},
   "source": [
    "Proposição:\n",
    "* Todo mundo no Brasil conhece Casimiro. <BR>\n",
    "∀x (Pessoa(x) ∧ Origem(x, Brasil)) → Conhece(x, Casimiro)\n",
    "    \n",
    "Em seguida:\n",
    "- cadastre pessoas brasileiras e observe as derivações."
   ]
  },
  {
   "cell_type": "code",
   "execution_count": 11,
   "metadata": {},
   "outputs": [
    {
     "data": {
      "text/plain": [
       "I learned something."
      ]
     },
     "execution_count": 11,
     "metadata": {},
     "output_type": "execute_result"
    }
   ],
   "source": [
    "#### TODO\n",
    "kb = createResolutionKB()\n",
    "and_ = And(Atom('Pessoa', '$x'), Atom('Origem', '$x', 'brasil')) \n",
    "forall = Forall('$x', Implies(and_, Atom('Conhece', '$x', 'casimiro') ))\n",
    "kb.tell(forall)"
   ]
  },
  {
   "cell_type": "code",
   "execution_count": 12,
   "metadata": {},
   "outputs": [
    {
     "name": "stdout",
     "output_type": "stream",
     "text": [
      "I don't know.\n",
      "Yes.\n"
     ]
    }
   ],
   "source": [
    "kb.tell(Atom('Pessoa','joao'))\n",
    "print(kb.ask(Atom('Conhece', 'joao', 'casimiro')))\n",
    "      \n",
    "kb.tell(Atom('Origem','joao', 'brasil'))\n",
    "print(kb.ask(Atom('Conhece', 'joao', 'casimiro')))"
   ]
  },
  {
   "cell_type": "markdown",
   "metadata": {},
   "source": [
    "Proposição: \n",
    "* Existe um curso que todos os estudantes fazem <br>\n",
    "∃y Curso(y) ∧ ∀x Estudante(x) → Cursou(x, y)\n",
    "\n",
    "Em seguida: \n",
    "- cadastre um estudante e observe as derivações."
   ]
  },
  {
   "cell_type": "code",
   "execution_count": 28,
   "metadata": {},
   "outputs": [
    {
     "name": "stdout",
     "output_type": "stream",
     "text": [
      "I don't know.\n",
      "I don't know.\n"
     ]
    }
   ],
   "source": [
    "#### TODO\n",
    "from logic import *\n",
    "\n",
    "kb = createResolutionKB()\n",
    "\n",
    "curso          = Atom('Curso','$y')\n",
    "estudante = Atom('Estudante','$x') \n",
    "\n",
    "and_ = And(Exists('$y', curso), estudante) \n",
    "forall = Forall('$x',Forall('$y', Implies(and_, Atom('Cursou', '$x', '$y'))))\n",
    "\n",
    "kb.tell(forall)\n",
    "\n",
    "kb.tell(Atom('Estudante','joao'))\n",
    "print(kb.ask(Atom('Cursou','medicina','joao')))\n",
    "\n",
    "kb.tell(Atom('Curso','medicina'))\n",
    "print(kb.ask(Atom('Cursou','medicina','joao')))"
   ]
  },
  {
   "cell_type": "markdown",
   "metadata": {},
   "source": [
    "Proposição:\n",
    "* Maria conhece todas as pessoas.\n",
    "\n",
    "Em seguida:\n",
    "- cadastre pessoas e observe as derivações."
   ]
  },
  {
   "cell_type": "code",
   "execution_count": 30,
   "metadata": {},
   "outputs": [
    {
     "name": "stdout",
     "output_type": "stream",
     "text": [
      "Yes.\n"
     ]
    }
   ],
   "source": [
    "#### TODO\n",
    "from logic import *\n",
    "\n",
    "kb = createResolutionKB()\n",
    "forall = Forall('$x', Implies(Atom('Pessoa','$x'), Atom('Conhece', '$x', 'maria') ))\n",
    "kb.tell(forall)\n",
    "\n",
    "kb.tell(Atom('Pessoa','joao'))\n",
    "print(kb.ask(Atom('Conhece', 'joao', 'maria')))"
   ]
  },
  {
   "cell_type": "markdown",
   "metadata": {},
   "source": [
    "Proposição:\n",
    "* Quaisquer duas pessoas de mesma nacionalidade falam a mesma língua\n",
    "\n",
    "Em seguida:\n",
    "- Cadastre uma pessoa, sua nacionalidade brasileira, e indique que seu idioma\n",
    "- Cadastre uma segunda pessoa e a sua nacionalidade igual à da primeira\n",
    "- Pergunte se a segunda pessoa fala o mesmo idioma da primeira"
   ]
  },
  {
   "cell_type": "code",
   "execution_count": 35,
   "metadata": {},
   "outputs": [
    {
     "ename": "Exception",
     "evalue": "Can't modify database with a query with free variables: And(Implies(Pessoa($x),Pessoa($x)),Implies(Pessoa($x),Pessoa($x)))",
     "output_type": "error",
     "traceback": [
      "\u001b[0;31m---------------------------------------------------------------------------\u001b[0m",
      "\u001b[0;31mException\u001b[0m                                 Traceback (most recent call last)",
      "Input \u001b[0;32mIn [35]\u001b[0m, in \u001b[0;36m<cell line: 6>\u001b[0;34m()\u001b[0m\n\u001b[1;32m      4\u001b[0m kb \u001b[38;5;241m=\u001b[39m createResolutionKB()\n\u001b[1;32m      5\u001b[0m equiv_ \u001b[38;5;241m=\u001b[39m Equiv(Atom(\u001b[38;5;124m'\u001b[39m\u001b[38;5;124mPessoa\u001b[39m\u001b[38;5;124m'\u001b[39m, \u001b[38;5;124m'\u001b[39m\u001b[38;5;124m$x\u001b[39m\u001b[38;5;124m'\u001b[39m), Atom(\u001b[38;5;124m'\u001b[39m\u001b[38;5;124mPessoa\u001b[39m\u001b[38;5;124m'\u001b[39m, \u001b[38;5;124m'\u001b[39m\u001b[38;5;124m$x\u001b[39m\u001b[38;5;124m'\u001b[39m)) \n\u001b[0;32m----> 6\u001b[0m \u001b[43mkb\u001b[49m\u001b[38;5;241;43m.\u001b[39;49m\u001b[43mtell\u001b[49m\u001b[43m(\u001b[49m\u001b[43mequiv_\u001b[49m\u001b[43m)\u001b[49m\n",
      "File \u001b[0;32m~/HD/code/IA-GLR/Listas/Exercicio#3 - logic/logic.py:795\u001b[0m, in \u001b[0;36mKnowledgeBase.tell\u001b[0;34m(self, form)\u001b[0m\n\u001b[1;32m    794\u001b[0m \u001b[38;5;28;01mdef\u001b[39;00m \u001b[38;5;21mtell\u001b[39m(\u001b[38;5;28mself\u001b[39m, form):\n\u001b[0;32m--> 795\u001b[0m     \u001b[38;5;28;01mreturn\u001b[39;00m \u001b[38;5;28;43mself\u001b[39;49m\u001b[38;5;241;43m.\u001b[39;49m\u001b[43mquery\u001b[49m\u001b[43m(\u001b[49m\u001b[43mform\u001b[49m\u001b[43m,\u001b[49m\u001b[43m \u001b[49m\u001b[43mmodify\u001b[49m\u001b[38;5;241;43m=\u001b[39;49m\u001b[38;5;28;43;01mTrue\u001b[39;49;00m\u001b[43m)\u001b[49m\n",
      "File \u001b[0;32m~/HD/code/IA-GLR/Listas/Exercicio#3 - logic/logic.py:816\u001b[0m, in \u001b[0;36mKnowledgeBase.query\u001b[0;34m(self, form, modify)\u001b[0m\n\u001b[1;32m    814\u001b[0m \u001b[38;5;28;01mif\u001b[39;00m \u001b[38;5;28mlen\u001b[39m(freeVars) \u001b[38;5;241m>\u001b[39m \u001b[38;5;241m0\u001b[39m:\n\u001b[1;32m    815\u001b[0m     \u001b[38;5;28;01mif\u001b[39;00m modify:\n\u001b[0;32m--> 816\u001b[0m         \u001b[38;5;28;01mraise\u001b[39;00m \u001b[38;5;167;01mException\u001b[39;00m(\u001b[38;5;124m\"\u001b[39m\u001b[38;5;124mCan\u001b[39m\u001b[38;5;124m'\u001b[39m\u001b[38;5;124mt modify database with a query with free variables: \u001b[39m\u001b[38;5;132;01m%s\u001b[39;00m\u001b[38;5;124m\"\u001b[39m \u001b[38;5;241m%\u001b[39m form)\n\u001b[1;32m    817\u001b[0m     var \u001b[38;5;241m=\u001b[39m freeVars[\u001b[38;5;241m0\u001b[39m]\n\u001b[1;32m    818\u001b[0m     allForms \u001b[38;5;241m=\u001b[39m AndList([deriv\u001b[38;5;241m.\u001b[39mform \u001b[38;5;28;01mfor\u001b[39;00m deriv \u001b[38;5;129;01min\u001b[39;00m \u001b[38;5;28mlist\u001b[39m(\u001b[38;5;28mself\u001b[39m\u001b[38;5;241m.\u001b[39mderivations\u001b[38;5;241m.\u001b[39mvalues())])\n",
      "\u001b[0;31mException\u001b[0m: Can't modify database with a query with free variables: And(Implies(Pessoa($x),Pessoa($x)),Implies(Pessoa($x),Pessoa($x)))"
     ]
    }
   ],
   "source": [
    "#### TODO\n",
    "from logic import *\n",
    "\n",
    "kb = createResolutionKB()\n",
    "equiv_ = Equiv(Atom('Pessoa', '$x'), Atom('Pessoa', '$x')) \n",
    "kb.tell(equiv_)\n",
    "\n"
   ]
  },
  {
   "cell_type": "code",
   "execution_count": null,
   "metadata": {},
   "outputs": [],
   "source": []
  }
 ],
 "metadata": {
  "kernelspec": {
   "display_name": "Python 3 (ipykernel)",
   "language": "python",
   "name": "python3"
  },
  "language_info": {
   "codemirror_mode": {
    "name": "ipython",
    "version": 3
   },
   "file_extension": ".py",
   "mimetype": "text/x-python",
   "name": "python",
   "nbconvert_exporter": "python",
   "pygments_lexer": "ipython3",
   "version": "3.10.2"
  }
 },
 "nbformat": 4,
 "nbformat_minor": 4
}
