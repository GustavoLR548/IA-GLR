{
 "cells": [
  {
   "cell_type": "markdown",
   "metadata": {},
   "source": [
    "# Lógica de 1ª Ordem\n",
    "\n",
    "Operações mais importantes:\n",
    "* ```Atom(x[,y,...,z])```\n",
    "* ```Not(x)```\n",
    "* ```And(x, y), AndList(x1,x2,...,xn)```\n",
    "* ```Or(x, y)```, ```OrList(x1,x2,...,xn)```\n",
    "* ```Xor(x,y)```\n",
    "* ```Implies(x, y)```\n",
    "* ```Equiv(x, y)```\n",
    "* ```Exists(var, body)```\n",
    "* ```Forall(var, body)```\n",
    "\n",
    "Fluxo de utilização:\n",
    "```python\n",
    "kb = createResolutionKB()\n",
    "kb.tell(<formula>) # add information to KB\n",
    "kb.ask(<formula>)  # submit queries to KB\n",
    "kb.dump()          # list derivations\n",
    "```\n"
   ]
  },
  {
   "cell_type": "code",
   "execution_count": 1,
   "metadata": {},
   "outputs": [],
   "source": [
    "from logic import *"
   ]
  },
  {
   "cell_type": "code",
   "execution_count": 2,
   "metadata": {},
   "outputs": [
    {
     "name": "stdout",
     "output_type": "stream",
     "text": [
      "Pessoa(virginia)\n",
      "Origem(virginia,brasil)\n"
     ]
    }
   ],
   "source": [
    "#Predicado unário\n",
    "unario = Atom('Pessoa', 'virginia')\n",
    "print(unario)\n",
    "\n",
    "#Predicado binário\n",
    "binario = Atom('Origem', 'virginia', 'brasil')\n",
    "print(binario)"
   ]
  },
  {
   "cell_type": "markdown",
   "metadata": {},
   "source": [
    "∀x Estudante(x) →  Pessoa(x)"
   ]
  },
  {
   "cell_type": "code",
   "execution_count": 47,
   "metadata": {},
   "outputs": [
    {
     "name": "stdout",
     "output_type": "stream",
     "text": [
      "==== Knowledge base [1 derivations] ===\n",
      "('*', Or(Not(Estudante($x3)),Pessoa($x3)))\n"
     ]
    }
   ],
   "source": [
    "kb = createResolutionKB()\n",
    "kb.tell(Forall('$x', Implies(Atom('Estudante', '$x'), \n",
    "                             Atom('Pessoa', '$x'))) )\n",
    "kb.dump()"
   ]
  },
  {
   "cell_type": "code",
   "execution_count": 48,
   "metadata": {},
   "outputs": [
    {
     "name": "stdout",
     "output_type": "stream",
     "text": [
      "==== Knowledge base [3 derivations] ===\n",
      "('*', Or(Not(Estudante($x3)),Pessoa($x3)))\n",
      "('*', Estudante(henrique))\n",
      "('-', Pessoa(henrique))\n"
     ]
    }
   ],
   "source": [
    "kb.tell(Atom('Estudante', 'henrique'))\n",
    "kb.dump()"
   ]
  },
  {
   "cell_type": "markdown",
   "metadata": {},
   "source": [
    "### Exercícios"
   ]
  },
  {
   "cell_type": "markdown",
   "metadata": {},
   "source": [
    "### Escreva as seguintes proposições\n"
   ]
  },
  {
   "cell_type": "markdown",
   "metadata": {},
   "source": [
    "Proposição:\n",
    "* Todo mundo no Brasil conhece Casimiro. <BR>\n",
    "∀x (Pessoa(x) ∧ Origem(x, Brasil)) → Conhece(x, Casimiro)\n",
    "    \n",
    "Em seguida:\n",
    "- cadastre pessoas brasileiras e observe as derivações."
   ]
  },
  {
   "cell_type": "code",
   "execution_count": 11,
   "metadata": {},
   "outputs": [
    {
     "data": {
      "text/plain": [
       "I learned something."
      ]
     },
     "execution_count": 11,
     "metadata": {},
     "output_type": "execute_result"
    }
   ],
   "source": [
    "#### TODO\n",
    "kb = createResolutionKB()\n",
    "and_ = And(Atom('Pessoa', '$x'), Atom('Origem', '$x', 'brasil')) \n",
    "forall = Forall('$x', Implies(and_, Atom('Conhece', '$x', 'casimiro') ))\n",
    "kb.tell(forall)"
   ]
  },
  {
   "cell_type": "code",
   "execution_count": 12,
   "metadata": {},
   "outputs": [
    {
     "name": "stdout",
     "output_type": "stream",
     "text": [
      "I don't know.\n",
      "Yes.\n"
     ]
    }
   ],
   "source": [
    "kb.tell(Atom('Pessoa','joao'))\n",
    "print(kb.ask(Atom('Conhece', 'joao', 'casimiro')))\n",
    "      \n",
    "kb.tell(Atom('Origem','joao', 'brasil'))\n",
    "print(kb.ask(Atom('Conhece', 'joao', 'casimiro')))"
   ]
  },
  {
   "cell_type": "markdown",
   "metadata": {},
   "source": [
    "Proposição: \n",
    "* Existe um curso que todos os estudantes fazem <br>\n",
    "∃y Curso(y) ∧ ∀x Estudante(x) → Cursou(x, y)\n",
    "\n",
    "Em seguida: \n",
    "- cadastre um estudante e observe as derivações."
   ]
  },
  {
   "cell_type": "code",
   "execution_count": 9,
   "metadata": {},
   "outputs": [
    {
     "name": "stdout",
     "output_type": "stream",
     "text": [
      "==== Knowledge base [5 derivations] ===\n",
      "('*', Curso(skolem$y3))\n",
      "('*', Or(Cursou($x3,skolem$y3),Not(Estudante($x3))))\n",
      "('*', Curso(computacao))\n",
      "('*', Estudante(gustavo))\n",
      "('-', Cursou(gustavo,skolem$y3))\n"
     ]
    }
   ],
   "source": [
    "#### TODO\n",
    "from logic import *\n",
    "\n",
    "kb = createResolutionKB()\n",
    "\n",
    "cursou    = Atom('Cursou','$x','$y')\n",
    "curso     = Atom('Curso','$y')\n",
    "estudante = Atom('Estudante','$x')\n",
    "\n",
    "prepA = Forall('$x', Implies(estudante,cursou))\n",
    "prepB = Exists('$y',And(curso,prepA))\n",
    "\n",
    "kb.tell(prepB)\n",
    "\n",
    "kb.tell(Atom('Curso','computacao'))\n",
    "kb.tell(Atom('Estudante','gustavo'))\n",
    "\n",
    "kb.ask(Atom('Cursou','gustavo','computacao'))\n",
    "kb.dump()"
   ]
  },
  {
   "cell_type": "markdown",
   "metadata": {},
   "source": [
    "Proposição:\n",
    "* Maria conhece todas as pessoas.\n",
    "\n",
    "Em seguida:\n",
    "- cadastre pessoas e observe as derivações."
   ]
  },
  {
   "cell_type": "code",
   "execution_count": 7,
   "metadata": {},
   "outputs": [
    {
     "name": "stdout",
     "output_type": "stream",
     "text": [
      "Yes.\n",
      "==== Knowledge base [5 derivations] ===\n",
      "('*', Or(Maria(conhece,$x3),Not(Pessoa($x3))))\n",
      "('*', Pessoa(joao))\n",
      "('-', Maria(conhece,joao))\n",
      "('*', Pessoa(pedro))\n",
      "('-', Maria(conhece,pedro))\n"
     ]
    }
   ],
   "source": [
    "#### TODO\n",
    "from logic import *\n",
    "\n",
    "kb = createResolutionKB()\n",
    "forall = Forall('$x', Implies(Atom('Pessoa','$x'), Atom('Maria', 'conhece', '$x') ))\n",
    "kb.tell(forall)\n",
    "\n",
    "kb.tell(Atom('Pessoa','joao'))\n",
    "kb.tell(Atom('Pessoa', 'pedro'))\n",
    "print(kb.ask(Atom('Maria', 'conhece', 'joao')))\n",
    "kb.dump()"
   ]
  },
  {
   "cell_type": "markdown",
   "metadata": {},
   "source": [
    "Proposição:\n",
    "* Quaisquer duas pessoas de mesma nacionalidade falam a mesma língua\n",
    "\n",
    "Em seguida:\n",
    "- Cadastre uma pessoa, sua nacionalidade brasileira, e indique que seu idioma\n",
    "- Cadastre uma segunda pessoa e a sua nacionalidade igual à da primeira\n",
    "- Pergunte se a segunda pessoa fala o mesmo idioma da primeira"
   ]
  },
  {
   "cell_type": "code",
   "execution_count": 21,
   "metadata": {},
   "outputs": [
    {
     "data": {
      "text/plain": [
       "Yes."
      ]
     },
     "execution_count": 21,
     "metadata": {},
     "output_type": "execute_result"
    }
   ],
   "source": [
    "#### TODO\n",
    "from logic import *\n",
    "\n",
    "kb = createResolutionKB()\n",
    "\n",
    "pessoa        = Atom('Pessoa', '$x')\n",
    "nacionalidade = Atom('Nacionalidade', pessoa, '$y')\n",
    "idioma        = Atom('Idioma', pessoa, '$z')\n",
    "\n",
    "equiv_ = Forall('$z',Forall('$y',Forall('$x',Implies(Equiv(nacionalidade, nacionalidade),idioma))))\n",
    "kb.tell(equiv_)\n",
    "\n",
    "joao = Atom('Pessoa','joao')\n",
    "pedro = Atom('Pessoa','pedro')\n",
    "\n",
    "kb.tell(Atom('Nacionalidade',joao,'brasileiro'))\n",
    "kb.tell(Atom('Nacionalidade',pedro,'brasileiro'))\n",
    "kb.tell(Atom('Idioma',joao,'portugues'))\n",
    "\n",
    "kb.ask(Atom('Idioma',pedro,'portugues'))\n"
   ]
  },
  {
   "cell_type": "code",
   "execution_count": null,
   "metadata": {},
   "outputs": [],
   "source": []
  }
 ],
 "metadata": {
  "kernelspec": {
   "display_name": "Python 3 (ipykernel)",
   "language": "python",
   "name": "python3"
  },
  "language_info": {
   "codemirror_mode": {
    "name": "ipython",
    "version": 3
   },
   "file_extension": ".py",
   "mimetype": "text/x-python",
   "name": "python",
   "nbconvert_exporter": "python",
   "pygments_lexer": "ipython3",
   "version": "3.8.10"
  }
 },
 "nbformat": 4,
 "nbformat_minor": 4
}
