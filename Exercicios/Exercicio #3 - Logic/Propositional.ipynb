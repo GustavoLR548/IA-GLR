{
 "cells": [
  {
   "cell_type": "markdown",
   "metadata": {},
   "source": [
    "# Lógica Proposicional\n",
    "\n",
    "Operações mais importantes:\n",
    "* ```Atom(x)```\n",
    "* ```Not(x)```\n",
    "* ```And(x, y), AndList(x1,x2,...,xn)```\n",
    "* ```Or(x, y)```, ```OrList(x1,x2,...,xn)```\n",
    "* ```Xor(x,y)```\n",
    "* ```Implies(x, y)```\n",
    "* ```Equiv(x, y)```\n",
    "\n",
    "Fluxo de utilização:\n",
    "```python\n",
    "kb = createResolutionKB()\n",
    "kb.tell(<formula>) # add information to KB\n",
    "kb.ask(<formula>)  # submit queries to KB\n",
    "kb.dump()          # list derivations\n",
    "```\n"
   ]
  },
  {
   "cell_type": "code",
   "execution_count": 3,
   "metadata": {},
   "outputs": [],
   "source": [
    "from logic import *"
   ]
  },
  {
   "cell_type": "markdown",
   "metadata": {},
   "source": [
    "Observe as derivações produzidas a partir das entradas exemplo, listadas por ```kb.dump()```.\n",
    "* Fórmulas de entrada ```('*', <formula>)```\n",
    "* Fórmulas derivadas ```('-', <formula>)```"
   ]
  },
  {
   "cell_type": "code",
   "execution_count": 3,
   "metadata": {},
   "outputs": [
    {
     "name": "stdout",
     "output_type": "stream",
     "text": [
      "==== Knowledge base [6 derivations] ===\n",
      "('*', Or(Not(Estudante),Pessoa))\n",
      "('*', Or(Criativa,Not(Estudante)))\n",
      "('*', Or(Estudante,Not(Matriculada)))\n",
      "('-', Or(Not(Matriculada),Pessoa))\n",
      "('-', Or(Criativa,Not(Matriculada)))\n",
      "('*', Or(Matriculada,Not(Estudante)))\n"
     ]
    }
   ],
   "source": [
    "pessoa, estudante = Atom('Pessoa'), Atom('Estudante')\n",
    "criativa, matriculada = Atom('Criativa'), Atom('Matriculada')\n",
    "\n",
    "kb = createResolutionKB()\n",
    "kb.tell(Implies(estudante, pessoa))\n",
    "kb.tell(Implies(estudante, criativa))\n",
    "kb.tell(Equiv(matriculada, estudante))\n",
    "kb.dump()"
   ]
  },
  {
   "cell_type": "code",
   "execution_count": 5,
   "metadata": {
    "scrolled": true
   },
   "outputs": [
    {
     "name": "stdout",
     "output_type": "stream",
     "text": [
      "==== Knowledge base [10 derivations] ===\n",
      "('*', Or(Not(Estudante),Pessoa))\n",
      "('*', Or(Criativa,Not(Estudante)))\n",
      "('*', Or(Estudante,Not(Matriculada)))\n",
      "('-', Or(Not(Matriculada),Pessoa))\n",
      "('-', Or(Criativa,Not(Matriculada)))\n",
      "('*', Or(Matriculada,Not(Estudante)))\n",
      "('*', Matriculada)\n",
      "('-', Estudante)\n",
      "('-', Pessoa)\n",
      "('-', Criativa)\n"
     ]
    }
   ],
   "source": [
    "# para uma determinada instância, matriculada é verdadeiro\n",
    "# observe as derivações produzidas\n",
    "kb.tell(matriculada)\n",
    "kb.dump()"
   ]
  },
  {
   "cell_type": "markdown",
   "metadata": {},
   "source": [
    "## A visita de Sócrates a Platão\n",
    "\n",
    "Se Platão estiver disposto a visitar Sócrates então Sócrates está disposto a visitar Platão. <br>\n",
    "Se Sócrates estiver disposto a visitar Platão então Platão não está disposto a visitar Sócrates. <br>\n",
    "Se Sócrates não estiver disposto a visitar Platão então Platão está disposto a visitar Sócrates. <br>\n",
    "\n",
    "**Sócrates está disposto a visitar Platão?**"
   ]
  },
  {
   "cell_type": "code",
   "execution_count": 25,
   "metadata": {},
   "outputs": [
    {
     "data": {
      "text/plain": [
       "Yes."
      ]
     },
     "execution_count": 25,
     "metadata": {},
     "output_type": "execute_result"
    }
   ],
   "source": [
    "from logic import *\n",
    "\n",
    "sp, ps = Atom('Socrates quer visitar Platao'), Atom('Platao quer visitar Socrates')\n",
    "\n",
    "kb = createResolutionKB()\n",
    "kb.tell(Implies(ps,sp))\n",
    "kb.tell(Implies(sp,Not(ps)))\n",
    "kb.tell(Implies(Not(sp),ps))\n",
    "kb.ask(sp)"
   ]
  },
  {
   "cell_type": "markdown",
   "metadata": {},
   "source": [
    "## Mentirosos e Honestos\n",
    "\n",
    "Considere que você está numa realidade onde as pessoas sempre mentem ou sempre dizem a verdade. Você encontra duas pessoas, Fulana e Beltrana. Fulana diz: “Pelo menos uma de nós é mentirosa.” \n",
    "\n",
    "**Fulana é a pessoa que sempre mente ou a que sempre diz a verdade? E Beltrana? Justifique.**"
   ]
  },
  {
   "cell_type": "code",
   "execution_count": 29,
   "metadata": {},
   "outputs": [
    {
     "name": "stdout",
     "output_type": "stream",
     "text": [
      "==== Knowledge base [4 derivations] ===\n",
      "('*', Or(Not(Beltrana é mentirosa),Not(Fulana é mentirosa)))\n",
      "('*', Fulana é mentirosa)\n",
      "('-', Not(Beltrana é mentirosa))\n",
      "('*', Or(Beltrana é mentirosa,Fulana é mentirosa))\n"
     ]
    }
   ],
   "source": [
    "from logic import *\n",
    "\n",
    "f, b = Atom('Fulana é mentirosa'), Atom('Beltrana é mentirosa')\n",
    "\n",
    "kb = createResolutionKB()\n",
    "kb.tell(Implies(f,Not(b)))\n",
    "kb.tell(Implies(b,Not(f)))\n",
    "kb.tell(Implies(Not(f),And(f,b)))\n",
    "\n",
    "kb.ask(f)\n",
    "kb.ask(b)\n",
    "kb.dump()\n"
   ]
  },
  {
   "cell_type": "markdown",
   "metadata": {},
   "source": [
    "## Puzzle: Quem derrubou a Internet?\n",
    "\n",
    "Alguém derramou água no roteador da Universidade e ficamos sem Internet! As pessoas, muito estressadas, começaram a jogar acusações. Sabendo que só uma pessoa pode ter feito isso, e que só uma das afirmações a seguir é verdade, descubra de quem foi a responsabilidade.\n",
    "\n",
    "* Maria disse: \"Não fui eu!\"\n",
    "* Gustavo disse: \"Foi July.\"\n",
    "* July disse: \"Não! Foi Henrique.\"\n",
    "* Henrique disse: \"July está mentindo!\""
   ]
  },
  {
   "cell_type": "code",
   "execution_count": 46,
   "metadata": {
    "scrolled": false
   },
   "outputs": [
    {
     "name": "stdout",
     "output_type": "stream",
     "text": [
      "[Maria, Not(Gustavo), Not(July), Not(Henrique)]\n",
      "[Not(Maria), Gustavo, Not(July), Not(Henrique)]\n",
      "[Not(Maria), Not(Gustavo), July, Not(Henrique)]\n",
      "[Not(Maria), Not(Gustavo), Not(July), Henrique]\n",
      "\n",
      "{'Maria': Not(Maria), 'Gustavo': July, 'July': And(Not(July),Henrique), 'Henrique': Not(And(Not(July),Henrique))}\n"
     ]
    }
   ],
   "source": [
    "students = ['Maria', 'Gustavo', 'July', 'Henrique']\n",
    "\n",
    "# Só uma pessoa pode ter feito isso\n",
    "worlds = []\n",
    "for student in students:\n",
    "    world = [Atom(s) if s == student else Not(Atom(s)) for s in students]\n",
    "    print(world)\n",
    "    worlds.append(world)\n",
    "print()\n",
    "\n",
    "# Só uma das afirmações é verdade\n",
    "### Fórmulas\n",
    "formulas = {'Maria': Not(Atom('Maria'))}     # Maria disse\n",
    "formulas['Gustavo']  = Atom('July')          # Gustavo disse\n",
    "formulas['July']     = And(Not(Atom('July')), Atom('Henrique')) # July disse\n",
    "formulas['Henrique'] = Not(formulas['July']) # Henrique disse [ Nicole or not(Susan) ]\n",
    "print(formulas) "
   ]
  },
  {
   "cell_type": "markdown",
   "metadata": {},
   "source": [
    "Se apenas uma pessoa está dizendo a verdade, então pela lógica temos 3 contradições. Teste todos os possíveis mundos, criando uma base de conhecimento para cada um deles (tell) e perguntando quais afirmações dos estudantes geram contradições (ask).  \n",
    "\n",
    "Ao final responda: *Quem derrubou a Internet?*"
   ]
  },
  {
   "cell_type": "code",
   "execution_count": 41,
   "metadata": {},
   "outputs": [
    {
     "name": "stdout",
     "output_type": "stream",
     "text": [
      "==== Knowledge base [4 derivations] ===\n",
      "('*', Mark)\n",
      "('*', Not(John))\n",
      "('*', Not(Nicole))\n",
      "('*', Not(Susan))\n",
      "Mark: Not(Mark) - No.\n",
      "John: Nicole - No.\n",
      "Nicole: And(Not(Nicole),Susan) - No.\n",
      "Susan: Not(And(Not(Nicole),Susan)) - Yes.\n",
      "--------------\n",
      "==== Knowledge base [4 derivations] ===\n",
      "('*', Not(Mark))\n",
      "('*', John)\n",
      "('*', Not(Nicole))\n",
      "('*', Not(Susan))\n",
      "Mark: Not(Mark) - Yes.\n",
      "John: Nicole - No.\n",
      "Nicole: And(Not(Nicole),Susan) - No.\n",
      "Susan: Not(And(Not(Nicole),Susan)) - Yes.\n",
      "--------------\n",
      "==== Knowledge base [4 derivations] ===\n",
      "('*', Not(Mark))\n",
      "('*', Not(John))\n",
      "('*', Nicole)\n",
      "('*', Not(Susan))\n",
      "Mark: Not(Mark) - Yes.\n",
      "John: Nicole - Yes.\n",
      "Nicole: And(Not(Nicole),Susan) - No.\n",
      "Susan: Not(And(Not(Nicole),Susan)) - Yes.\n",
      "--------------\n",
      "==== Knowledge base [4 derivations] ===\n",
      "('*', Not(Mark))\n",
      "('*', Not(John))\n",
      "('*', Not(Nicole))\n",
      "('*', Susan)\n",
      "Mark: Not(Mark) - Yes.\n",
      "John: Nicole - No.\n",
      "Nicole: And(Not(Nicole),Susan) - Yes.\n",
      "Susan: Not(And(Not(Nicole),Susan)) - No.\n",
      "--------------\n"
     ]
    }
   ],
   "source": [
    "for world in worlds:\n",
    "    liarKB = createResolutionKB()\n",
    "    [liarKB.tell(w) for w in world]\n",
    "    liarKB.dump()\n",
    "    \n",
    "    for key in formulas.keys():\n",
    "        print(f\"{key}: {formulas[key]} - {liarKB.ask(formulas[key])}\")\n",
    "    print('--------------')"
   ]
  }
 ],
 "metadata": {
  "kernelspec": {
   "display_name": "Python 3 (ipykernel)",
   "language": "python",
   "name": "python3"
  },
  "language_info": {
   "codemirror_mode": {
    "name": "ipython",
    "version": 3
   },
   "file_extension": ".py",
   "mimetype": "text/x-python",
   "name": "python",
   "nbconvert_exporter": "python",
   "pygments_lexer": "ipython3",
   "version": "3.10.3"
  }
 },
 "nbformat": 4,
 "nbformat_minor": 4
}
